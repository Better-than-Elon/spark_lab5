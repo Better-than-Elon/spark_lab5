{
 "cells": [
  {
   "cell_type": "code",
   "execution_count": 1,
   "id": "b704bac2",
   "metadata": {
    "collapsed": false,
    "jupyter": {
     "outputs_hidden": false
    },
    "pycharm": {
     "name": "#%%\n"
    }
   },
   "outputs": [],
   "source": [
    "import os\n",
    "import findspark\n",
    "\n",
    "from spark_builder import SparkBuilder\n",
    "from pyspark.sql.functions import explode, split, col\n",
    "\n",
    "import yaml\n",
    "from pyspark.ml.feature import VectorAssembler\n",
    "from pyspark.ml.feature import StandardScaler\n",
    "from pyspark.ml.clustering import KMeans\n",
    "from pyspark.ml.evaluation import ClusteringEvaluator\n",
    "import matplotlib.pyplot as plt\n",
    "\n",
    "import sys\n",
    "\n",
    "os.environ['PYSPARK_PYTHON'] = sys.executable\n",
    "os.environ['PYSPARK_DRIVER_PYTHON'] = sys.executable\n",
    "\n",
    "os.environ['SPARK_HOME'] = \"C:/apps/spark-3.5.1-bin-hadoop3/\"\n",
    "os.environ['PYSPARK_DRIVER_PYTHON'] = 'jupyter'\n",
    "#os.environ['PYSPARK_DRIVER_PYTHON_OPTS'] = 'lab'\n",
    "#os.environ['PYSPARK_PYTHON'] = 'python'\n",
    "findspark.init()"
   ]
  },
  {
   "cell_type": "code",
   "execution_count": 2,
   "id": "35f00f63",
   "metadata": {
    "collapsed": false,
    "jupyter": {
     "outputs_hidden": false
    },
    "pycharm": {
     "name": "#%%\n"
    }
   },
   "outputs": [
    {
     "name": "stdout",
     "output_type": "stream",
     "text": [
      "+----------+-----+\n",
      "|      word|count|\n",
      "+----------+-----+\n",
      "|       the|    6|\n",
      "|     Lorem|    4|\n",
      "|        of|    4|\n",
      "|       and|    3|\n",
      "|     Ipsum|    3|\n",
      "|      with|    2|\n",
      "|        It|    2|\n",
      "|     dummy|    2|\n",
      "|      type|    2|\n",
      "|      text|    2|\n",
      "|         a|    2|\n",
      "|       has|    2|\n",
      "|publishing|    1|\n",
      "|unchanged.|    1|\n",
      "|    sheets|    1|\n",
      "|   desktop|    1|\n",
      "|       not|    1|\n",
      "|     1960s|    1|\n",
      "|  Letraset|    1|\n",
      "|    Ipsum.|    1|\n",
      "+----------+-----+\n",
      "only showing top 20 rows\n",
      "\n"
     ]
    }
   ],
   "source": [
    "spark = SparkBuilder({'spark.app.name': 'Word-count'}).getSession()\n",
    "\n",
    "df = spark.read.text('input.txt')\n",
    "\n",
    "df_count = (\n",
    "    df.withColumn('word', explode(split(col('value'), ' ')))\n",
    "        .groupBy('word')\n",
    "        .count()\n",
    "        .sort('count', ascending=False)\n",
    ")\n",
    "\n",
    "df_count.show()\n",
    "\n",
    "spark.stop()"
   ]
  },
  {
   "cell_type": "code",
   "execution_count": 3,
   "id": "2d5e1ecf",
   "metadata": {
    "collapsed": false,
    "jupyter": {
     "outputs_hidden": false
    },
    "pycharm": {
     "name": "#%%\n"
    },
    "scrolled": true,
    "tags": []
   },
   "outputs": [
    {
     "name": "stdout",
     "output_type": "stream",
     "text": [
      "+-------+---+\n",
      "|   Name|Age|\n",
      "+-------+---+\n",
      "|  Alice| 25|\n",
      "|    Bob| 30|\n",
      "|Charlie| 35|\n",
      "+-------+---+\n",
      "\n"
     ]
    }
   ],
   "source": [
    "spark = SparkBuilder({'spark.app.name': 'Show'}).getSession()\n",
    "\n",
    "data = [(\"Alice\", 25), (\"Bob\", 30), (\"Charlie\", 35)]\n",
    "df = spark.createDataFrame(data, [\"Name\", \"Age\"])\n",
    "df.show()\n",
    "\n",
    "spark.stop()"
   ]
  },
  {
   "cell_type": "code",
   "execution_count": 4,
   "id": "7cb51ead",
   "metadata": {
    "collapsed": false,
    "jupyter": {
     "outputs_hidden": false
    },
    "pycharm": {
     "name": "#%%\n"
    }
   },
   "outputs": [
    {
     "name": "stdout",
     "output_type": "stream",
     "text": [
      "Input data\n",
      "root\n",
      " |-- completeness: double (nullable = false)\n",
      " |-- energy_100g: double (nullable = false)\n",
      " |-- energy-kcal_100g: double (nullable = false)\n",
      " |-- carbohydrates_100g: double (nullable = false)\n",
      " |-- proteins_100g: double (nullable = false)\n",
      " |-- fat_100g: double (nullable = false)\n",
      " |-- sugars_100g: double (nullable = false)\n",
      " |-- saturated-fat_100g: double (nullable = false)\n",
      " |-- salt_100g: double (nullable = false)\n",
      " |-- sodium_100g: double (nullable = false)\n",
      "\n",
      "VectorAssembler\n",
      "+--------------------+\n",
      "|            features|\n",
      "+--------------------+\n",
      "|      (10,[0],[0.3])|\n",
      "|[0.2625,690.0,165...|\n",
      "|[0.4875,0.0,0.0,9...|\n",
      "|[0.575,238.0,57.0...|\n",
      "|[0.275,1569.0,375...|\n",
      "+--------------------+\n",
      "only showing top 5 rows\n",
      "\n",
      "StandardScaler\n",
      "+--------------------+\n",
      "|      scaledFeatures|\n",
      "+--------------------+\n",
      "|(10,[0],[1.770616...|\n",
      "|[1.54928925370272...|\n",
      "|[2.87725147116219...|\n",
      "|[3.39368122239643...|\n",
      "|[1.62306493245047...|\n",
      "+--------------------+\n",
      "only showing top 5 rows\n",
      "\n",
      "Silhouette Score for k = 2 is 0.551099203768424\n",
      "Silhouette Score for k = 3 is 0.5758374063409186\n",
      "Silhouette Score for k = 4 is 0.6117303997974598\n",
      "Silhouette Score for k = 5 is 0.6117714910771913\n",
      "Silhouette Score for k = 6 is 0.6129415739115928\n",
      "Silhouette Score for k = 7 is 0.49379857248032905\n",
      "Silhouette Score for k = 8 is 0.503137083572379\n",
      "Silhouette Score for k = 9 is 0.39003698707601236\n",
      "Silhouette Score for k = 10 is 0.4320379300301661\n",
      "Silhouette Score for k = 11 is 0.431917720748993\n",
      "Silhouette Score for k = 12 is 0.3569635460363891\n",
      "Silhouette Score for k = 13 is 0.39135693261378796\n",
      "Silhouette Score for k = 14 is 0.3951113896837158\n"
     ]
    },
    {
     "data": {
      "image/png": "[encoded data removed]",
      "text/plain": [
       "<Figure size 640x480 with 1 Axes>"
      ]
     },
     "metadata": {},
     "output_type": "display_data"
    }
   ],
   "source": [
    "spark = SparkBuilder({'spark.app.name': 'Clustering'}).getSession()\n",
    "\n",
    "cfg = yaml.load(open('config.yaml'), Loader=yaml.FullLoader)\n",
    "\n",
    "dataset = spark.read.csv(cfg['dataset']['data_path'], header=True, inferSchema=True, sep='\\t')\n",
    "dataset = dataset.select(cfg['dataset']['filtered_cols'])\n",
    "dataset = dataset.na.fill(value=0)\n",
    "print('Input data')\n",
    "dataset.printSchema()\n",
    "\n",
    "vec_assembler = VectorAssembler(inputCols=dataset.columns,\n",
    "                                outputCol='features')\n",
    "final_data = vec_assembler.transform(dataset)\n",
    "print('VectorAssembler')\n",
    "final_data.select('features').show(5)\n",
    "\n",
    "scaler = StandardScaler(inputCol=\"features\",\n",
    "                        outputCol=\"scaledFeatures\",\n",
    "                        withStd=True,\n",
    "                        withMean=False)\n",
    "scalerModel = scaler.fit(final_data)\n",
    "final_data = scalerModel.transform(final_data)\n",
    "print('StandardScaler')\n",
    "final_data.select('scaledFeatures').show(5)\n",
    "\n",
    "silhouette_score = []\n",
    "evaluator = ClusteringEvaluator(predictionCol='prediction',\n",
    "                                featuresCol='scaledFeatures',\n",
    "                                metricName='silhouette',\n",
    "                                distanceMeasure='squaredEuclidean')\n",
    "ks = range(2, 15)\n",
    "for i in ks:\n",
    "    kmeans = KMeans(featuresCol='scaledFeatures', k=i, seed=42)\n",
    "    model = kmeans.fit(final_data)\n",
    "    predictions = model.transform(final_data)\n",
    "    score = evaluator.evaluate(predictions)\n",
    "    silhouette_score.append(score)\n",
    "    print('Silhouette Score for k =', i, 'is', score)\n",
    "\n",
    "\n",
    "plt.plot(ks,silhouette_score)\n",
    "plt.xlabel('k')\n",
    "plt.ylabel('silhouette score')\n",
    "plt.title('Silhouette Score')\n",
    "plt.show()\n",
    "\n",
    "spark.stop()"
   ]
  },
  {
   "cell_type": "code",
   "execution_count": null,
   "id": "c284268b",
   "metadata": {
    "collapsed": false,
    "jupyter": {
     "outputs_hidden": false
    },
    "pycharm": {
     "name": "#%%\n"
    }
   },
   "outputs": [],
   "source": []
  },
  {
   "cell_type": "code",
   "execution_count": 11,
   "id": "0a312fe8",
   "metadata": {
    "collapsed": false,
    "jupyter": {
     "outputs_hidden": false
    },
    "pycharm": {
     "name": "#%%\n"
    }
   },
   "outputs": [
    {
     "name": "stderr",
     "output_type": "stream",
     "text": [
      "C:\\Users\\stfu_\\AppData\\Local\\Temp\\ipykernel_10104\\3774533282.py:3: DtypeWarning: Columns (0,17,72) have mixed types. Specify dtype option on import or set low_memory=False.\n",
      "  df = pd.read_csv(\"./truncated.csv\", sep='\\t', )\n"
     ]
    },
    {
     "data": {
      "text/plain": [
       "['completeness',\n",
       " 'energy_100g',\n",
       " 'energy-kcal_100g',\n",
       " 'carbohydrates_100g',\n",
       " 'proteins_100g',\n",
       " 'fat_100g',\n",
       " 'sugars_100g',\n",
       " 'saturated-fat_100g',\n",
       " 'salt_100g',\n",
       " 'sodium_100g']"
      ]
     },
     "execution_count": 11,
     "metadata": {},
     "output_type": "execute_result"
    }
   ],
   "source": [
    "# import pandas as pd\n",
    "\n",
    "# df = pd.read_csv(\"./truncated.csv\", sep='\\t', )\n",
    "# df = df.loc[:, df.dtypes == float]\n",
    "# cols = df.isnull().sum().sort_values()[:12]\\\n",
    "#     .drop(labels=['last_updated_t', 'last_image_t'])\\\n",
    "#     .index.to_list()\n",
    "# cols"
   ]
  }
 ],
 "metadata": {
  "kernelspec": {
   "display_name": "spark_base",
   "language": "python",
   "name": "spark_base"
  },
  "language_info": {
   "codemirror_mode": {
    "name": "ipython",
    "version": 3
   },
   "file_extension": ".py",
   "mimetype": "text/x-python",
   "name": "python",
   "nbconvert_exporter": "python",
   "pygments_lexer": "ipython3",
   "version": "3.9.7"
  }
 },
 "nbformat": 4,
 "nbformat_minor": 5
}
